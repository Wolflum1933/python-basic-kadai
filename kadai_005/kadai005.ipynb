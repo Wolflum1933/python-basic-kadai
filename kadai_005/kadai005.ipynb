{
  "nbformat": 4,
  "nbformat_minor": 0,
  "metadata": {
    "colab": {
      "provenance": []
    },
    "kernelspec": {
      "name": "python3",
      "display_name": "Python 3"
    },
    "language_info": {
      "name": "python"
    }
  },
  "cells": [
    {
      "cell_type": "code",
      "source": [
        "#上辺はx, 下辺はy, 高さはzとする\n",
        "\n",
        "x = 10\n",
        "y = 20\n",
        "z = 5\n",
        "\n",
        "面積 = (x + y) * z / 2\n",
        "print(str(面積) + 'cm²')"
      ],
      "metadata": {
        "colab": {
          "base_uri": "https://localhost:8080/"
        },
        "id": "EzIFwYjlgX-T",
        "outputId": "4dbf8497-d54c-435f-de49-479360e37ef5"
      },
      "execution_count": 6,
      "outputs": [
        {
          "output_type": "stream",
          "name": "stdout",
          "text": [
            "75.0cm²\n"
          ]
        }
      ]
    }
  ]
}