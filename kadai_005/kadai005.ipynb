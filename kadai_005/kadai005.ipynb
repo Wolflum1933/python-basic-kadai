{
  "nbformat": 4,
  "nbformat_minor": 0,
  "metadata": {
    "colab": {
      "provenance": []
    },
    "kernelspec": {
      "name": "python3",
      "display_name": "Python 3"
    },
    "language_info": {
      "name": "python"
    }
  },
  "cells": [
    {
      "cell_type": "code",
      "source": [
        "#上辺はx, 下辺はy, 高さはzとする\n",
        "\n",
        "x = 10\n",
        "y = 20\n",
        "z = 5\n",
        "\n",
        "面積 = (10 + 20) * 5 / 2\n",
        "print(面積)\n"
      ],
      "metadata": {
        "colab": {
          "base_uri": "https://localhost:8080/"
        },
        "id": "EzIFwYjlgX-T",
        "outputId": "791d0fc0-59d0-4b69-f831-74fb1240fc1e"
      },
      "execution_count": 12,
      "outputs": [
        {
          "output_type": "stream",
          "name": "stdout",
          "text": [
            "75.0\n"
          ]
        }
      ]
    }
  ]
}