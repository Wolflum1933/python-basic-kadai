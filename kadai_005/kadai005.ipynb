{
  "nbformat": 4,
  "nbformat_minor": 0,
  "metadata": {
    "colab": {
      "provenance": []
    },
    "kernelspec": {
      "name": "python3",
      "display_name": "Python 3"
    },
    "language_info": {
      "name": "python"
    }
  },
  "cells": [
    {
      "cell_type": "code",
      "source": [
        "#上辺はx, 下辺はy, 高さはzとする\n",
        "\n",
        "x = 10\n",
        "y = 20\n",
        "z = 5\n",
        "\n",
        "面積 = (10 + 20) * 5 / 2\n",
        "print(str(面積) + '㎠')"
      ],
      "metadata": {
        "colab": {
          "base_uri": "https://localhost:8080/"
        },
        "id": "JH-lhsvPyP1F",
        "outputId": "12e9aa75-7353-4d88-9873-f3c85f34c158"
      },
      "execution_count": 4,
      "outputs": [
        {
          "output_type": "stream",
          "name": "stdout",
          "text": [
            "75.0㎠\n"
          ]
        }
      ]
    }
  ]
}