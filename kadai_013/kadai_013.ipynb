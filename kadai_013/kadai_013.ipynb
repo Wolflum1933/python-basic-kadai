{
  "nbformat": 4,
  "nbformat_minor": 0,
  "metadata": {
    "colab": {
      "provenance": []
    },
    "kernelspec": {
      "name": "python3",
      "display_name": "Python 3"
    },
    "language_info": {
      "name": "python"
    }
  },
  "cells": [
    {
      "cell_type": "code",
      "execution_count": 17,
      "metadata": {
        "colab": {
          "base_uri": "https://localhost:8080/"
        },
        "id": "J_lAn-XevowU",
        "outputId": "e49a9d82-1cba-41e8-8822-a41d0cb24cd5"
      },
      "outputs": [
        {
          "output_type": "execute_result",
          "data": {
            "text/plain": [
              "121.0"
            ]
          },
          "metadata": {},
          "execution_count": 17
        }
      ],
      "source": [
        "def consumption_tax(cost, tax):\n",
        "  tax_included_cost = cost +  cost * (tax / 100)\n",
        "  return(tax_included_cost)\n",
        "\n",
        "\n",
        "consumption_tax(110, 10)\n"
      ]
    }
  ]
}