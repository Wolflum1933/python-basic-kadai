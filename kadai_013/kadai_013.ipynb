{
  "nbformat": 4,
  "nbformat_minor": 0,
  "metadata": {
    "colab": {
      "provenance": []
    },
    "kernelspec": {
      "name": "python3",
      "display_name": "Python 3"
    },
    "language_info": {
      "name": "python"
    }
  },
  "cells": [
    {
      "cell_type": "code",
      "execution_count": 15,
      "metadata": {
        "colab": {
          "base_uri": "https://localhost:8080/"
        },
        "id": "J_lAn-XevowU",
        "outputId": "f5ed97f2-f0f3-40f5-dc4e-60fa34694303"
      },
      "outputs": [
        {
          "output_type": "execute_result",
          "data": {
            "text/plain": [
              "121.0"
            ]
          },
          "metadata": {},
          "execution_count": 15
        }
      ],
      "source": [
        "def consumption_tax(cost, tax):\n",
        "  tax_included_cost = cost +  cost * (tax / 100)\n",
        "  return(tax_included_cost)\n",
        "\n",
        "cost = 110\n",
        "tax = 10\n",
        "consumption_tax(cost, tax)\n"
      ]
    }
  ]
}