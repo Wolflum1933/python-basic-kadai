{
  "nbformat": 4,
  "nbformat_minor": 0,
  "metadata": {
    "colab": {
      "provenance": []
    },
    "kernelspec": {
      "name": "python3",
      "display_name": "Python 3"
    },
    "language_info": {
      "name": "python"
    }
  },
  "cells": [
    {
      "cell_type": "code",
      "execution_count": 5,
      "metadata": {
        "id": "J_lAn-XevowU"
      },
      "outputs": [],
      "source": [
        "def consumption_tax(cost, tax):\n",
        "  cost = 110\n",
        "  tax = 10\n",
        "  tax_included_cost = cost +  cost * (tax / 100)\n",
        "  return(tax_included_cost)\n"
      ]
    }
  ]
}