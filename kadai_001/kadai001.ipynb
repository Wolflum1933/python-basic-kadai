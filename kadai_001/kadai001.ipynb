{
  "nbformat": 4,
  "nbformat_minor": 0,
  "metadata": {
    "colab": {
      "provenance": []
    },
    "kernelspec": {
      "name": "python3",
      "display_name": "Python 3"
    },
    "language_info": {
      "name": "python"
    }
  },
  "cells": [
    {
      "cell_type": "code",
      "execution_count": 2,
      "metadata": {
        "id": "yfWpUSUYn2Bb"
      },
      "outputs": [],
      "source": [
        "import openpyxl\n",
        "import datetime\n",
        "\n",
        "workbook = openpyxl.Workbook()\n",
        "sheet = workbook.active\n",
        "\n",
        "\n",
        "sheet['B2'].value = '請求書'\n",
        "sheet['B4'].value = '株式会社ABC'\n",
        "sheet['B5'].value = '〒101-0022 東京都千代田区神田練塀町300'\n",
        "sheet['B6'].value = 'TEL:03-1234-5678 FAX:03-1234-5678'\n",
        "sheet['B7'].value = '担当者名:鈴木一郎 様'\n",
        "sheet['F4'].value = 'No.'\n",
        "sheet['G4'].value = '0001'\n",
        "sheet['F5'].value = '日付'\n",
        "now = datetime.datetime.now()\n",
        "sheet[\"G5\"] = now\n",
        "sheet[\"G5\"].number_format = \"yyyy/mm/dd\"\n",
        "\n",
        "sheet['B10'].value = '商品名'\n",
        "sheet['C10'].value = '数量'\n",
        "sheet['D10'].value = '単価'\n",
        "sheet['D11'].value = '金額'\n",
        "sheet['B11'].value = '商品A'\n",
        "sheet['C11'].value = 2\n",
        "sheet['D11'].value = 10000\n",
        "sheet['E11'].value = 20000\n",
        "sheet['B12'].value = '商品A'\n",
        "sheet['C12'].value = 1\n",
        "sheet['D12'].value = 15000\n",
        "sheet['E12'].value = 15000\n",
        "sheet['E13'].value = 35000\n",
        "sheet['B15'].value = \"合計\"\n",
        "sheet['E15'].value = 35000\n",
        "sheet['B16'].value = \"消費税\"\n",
        "sheet['E16'].value = 3500\n",
        "sheet['B17'].value = \"税込合計\"\n",
        "sheet['E17'].value = 38500\n",
        "\n",
        "workbook.save(\"請求書_20230520（現在日付）.xlsx\")\n",
        "\n"
      ]
    }
  ]
}